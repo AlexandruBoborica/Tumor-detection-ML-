{
 "cells": [
  {
   "cell_type": "code",
   "execution_count": 24,
   "id": "e9d374ba",
   "metadata": {},
   "outputs": [],
   "source": [
    "import re\n",
    "import glob\n",
    "import nibabel as nib\n",
    "import cv2\n",
    "import numpy as np\n",
    "\n",
    "def atoi(text):\n",
    "    return int(text) if text.isdigit() else text\n",
    "\n",
    "def natural_keys(text):\n",
    "    return [ atoi(c) for c in re.split(r'(\\d+)', text) ]\n"
   ]
  },
  {
   "cell_type": "code",
   "execution_count": 25,
   "id": "785272d9",
   "metadata": {},
   "outputs": [],
   "source": [
    "img_path = glob.glob(\"LungMSD/volume-*.nii\")\n",
    "mask_path = glob.glob(\"LungMSD/segmentation-*.nii\")"
   ]
  },
  {
   "cell_type": "code",
   "execution_count": 26,
   "id": "abaaa51b",
   "metadata": {},
   "outputs": [
    {
     "data": {
      "text/plain": [
       "['LungMSD/volume-004.nii',\n",
       " 'LungMSD/volume-005.nii',\n",
       " 'LungMSD/volume-006.nii',\n",
       " 'LungMSD/volume-009.nii',\n",
       " 'LungMSD/volume-010.nii',\n",
       " 'LungMSD/volume-014.nii',\n",
       " 'LungMSD/volume-015.nii',\n",
       " 'LungMSD/volume-016.nii',\n",
       " 'LungMSD/volume-018.nii',\n",
       " 'LungMSD/volume-020.nii',\n",
       " 'LungMSD/volume-022.nii',\n",
       " 'LungMSD/volume-023.nii',\n",
       " 'LungMSD/volume-025.nii',\n",
       " 'LungMSD/volume-026.nii',\n",
       " 'LungMSD/volume-027.nii',\n",
       " 'LungMSD/volume-028.nii',\n",
       " 'LungMSD/volume-029.nii',\n",
       " 'LungMSD/volume-033.nii',\n",
       " 'LungMSD/volume-034.nii',\n",
       " 'LungMSD/volume-036.nii',\n",
       " 'LungMSD/volume-037.nii',\n",
       " 'LungMSD/volume-038.nii',\n",
       " 'LungMSD/volume-041.nii',\n",
       " 'LungMSD/volume-042.nii',\n",
       " 'LungMSD/volume-043.nii',\n",
       " 'LungMSD/volume-044.nii',\n",
       " 'LungMSD/volume-045.nii',\n",
       " 'LungMSD/volume-046.nii',\n",
       " 'LungMSD/volume-047.nii',\n",
       " 'LungMSD/volume-048.nii',\n",
       " 'LungMSD/volume-049.nii',\n",
       " 'LungMSD/volume-051.nii',\n",
       " 'LungMSD/volume-053.nii',\n",
       " 'LungMSD/volume-054.nii',\n",
       " 'LungMSD/volume-057.nii',\n",
       " 'LungMSD/volume-058.nii',\n",
       " 'LungMSD/volume-059.nii',\n",
       " 'LungMSD/volume-061.nii',\n",
       " 'LungMSD/volume-062.nii',\n",
       " 'LungMSD/volume-064.nii',\n",
       " 'LungMSD/volume-065.nii',\n",
       " 'LungMSD/volume-066.nii',\n",
       " 'LungMSD/volume-069.nii',\n",
       " 'LungMSD/volume-070.nii',\n",
       " 'LungMSD/volume-071.nii',\n",
       " 'LungMSD/volume-073.nii',\n",
       " 'LungMSD/volume-074.nii',\n",
       " 'LungMSD/volume-075.nii',\n",
       " 'LungMSD/volume-078.nii',\n",
       " 'LungMSD/volume-079.nii',\n",
       " 'LungMSD/volume-080.nii',\n",
       " 'LungMSD/volume-081.nii',\n",
       " 'LungMSD/volume-083.nii',\n",
       " 'LungMSD/volume-084.nii',\n",
       " 'LungMSD/volume-086.nii',\n",
       " 'LungMSD/volume-092.nii',\n",
       " 'LungMSD/volume-093.nii',\n",
       " 'LungMSD/volume-095.nii',\n",
       " 'LungMSD/volume-096.nii',\n",
       " 'LungMSD/volume-003.nii',\n",
       " 'LungMSD/volume-031.nii',\n",
       " 'LungMSD/volume-055.nii',\n",
       " 'LungMSD/volume-001.nii']"
      ]
     },
     "execution_count": 26,
     "metadata": {},
     "output_type": "execute_result"
    }
   ],
   "source": [
    "img_path"
   ]
  },
  {
   "cell_type": "code",
   "execution_count": 27,
   "id": "cf5e5e89",
   "metadata": {},
   "outputs": [],
   "source": [
    "img_path.sort(key=natural_keys)\n",
    "mask_path.sort(key=natural_keys)"
   ]
  },
  {
   "cell_type": "code",
   "execution_count": 36,
   "id": "e05ab1a2",
   "metadata": {},
   "outputs": [],
   "source": [
    "#LITS/LungMSD\n",
    "for i in range(len(img_path)):\n",
    "    img_3D = nib.load(img_path[i]).get_fdata()\n",
    "    mask_3D = nib.load(mask_path[i]).get_fdata()\n",
    "    \n",
    "    # LUNG\n",
    "    mask_3D[mask_3D == 1] = 255\n",
    "    # LIST\n",
    "    # mask_3D[mask_3D == 2] = 255\n",
    "    \n",
    "    first = -1\n",
    "    last  = -1\n",
    "    \n",
    "    for slice_nb in range(img_3D.shape[2]):\n",
    "        img  = img_3D[:,:,slice_nb]\n",
    "        mask = mask_3D[:,:,slice_nb]\n",
    "        \n",
    "        if np.any(mask > 0):\n",
    "            if first == -1:\n",
    "                first = slice_nb\n",
    "            last = slice_nb\n",
    "            \n",
    "    for slice_nb in range(max(0, first-25), min(last+26, img_3D.shape[2])):\n",
    "        img  = img_3D[:,:,slice_nb]\n",
    "        mask = mask_3D[:,:,slice_nb]\n",
    "        \n",
    "        cv2.imwrite(f\"LungMSD/images/{img_path[i].split('/')[-1]}_{slice_nb}.png\", img, [cv2.IMWRITE_PNG_COMPRESSION, 0])\n",
    "        cv2.imwrite(f\"LungMSD/masks/{img_path[i].split('/')[-1]}_{slice_nb}.png\", mask, [cv2.IMWRITE_PNG_COMPRESSION, 0])"
   ]
  },
  {
   "cell_type": "code",
   "execution_count": 60,
   "id": "51a27154",
   "metadata": {},
   "outputs": [],
   "source": [
    "#KITS\n",
    "for i in range(len(img_path)):\n",
    "    img_3D = nib.load(img_path[i]).get_fdata()\n",
    "    mask_3D = nib.load(mask_path[i]).get_fdata()\n",
    "    \n",
    "    mask_3D[mask_3D == 2] = 255\n",
    "    \n",
    "    for slice_nb in range(img_3D.shape[0]):\n",
    "        img  = img_3D[slice_nb,:,:]\n",
    "        mask = mask_3D[slice_nb,:,:]\n",
    "        \n",
    "        cv2.imwrite(f\"KITS/images/{img_path[i].split('/')[-1]}_{slice_nb}.png\", img, [cv2.IMWRITE_PNG_COMPRESSION, 0])\n",
    "        cv2.imwrite(f\"KITS/masks/{img_path[i].split('/')[-1]}_{slice_nb}.png\", mask, [cv2.IMWRITE_PNG_COMPRESSION, 0])"
   ]
  },
  {
   "cell_type": "code",
   "execution_count": null,
   "id": "02f11bfd",
   "metadata": {},
   "outputs": [],
   "source": [
    "\n"
   ]
  }
 ],
 "metadata": {
  "kernelspec": {
   "display_name": "Python 3 (ipykernel)",
   "language": "python",
   "name": "python3"
  },
  "language_info": {
   "codemirror_mode": {
    "name": "ipython",
    "version": 3
   },
   "file_extension": ".py",
   "mimetype": "text/x-python",
   "name": "python",
   "nbconvert_exporter": "python",
   "pygments_lexer": "ipython3",
   "version": "3.11.5"
  }
 },
 "nbformat": 4,
 "nbformat_minor": 5
}
